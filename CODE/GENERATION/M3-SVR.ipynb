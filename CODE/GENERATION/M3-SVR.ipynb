{
 "cells": [
  {
   "cell_type": "markdown",
   "id": "f23cd813",
   "metadata": {},
   "source": [
    "# SUPPORT VECTOR REGRESSER"
   ]
  },
  {
   "cell_type": "code",
   "execution_count": 57,
   "id": "c7ac72fa",
   "metadata": {},
   "outputs": [],
   "source": [
    "import pandas as pd\n",
    "import numpy as np\n",
    "import matplotlib.pyplot as plt\n",
    "import seaborn as sns\n",
    "\n",
    "import warnings\n",
    "warnings.filterwarnings('ignore')"
   ]
  },
  {
   "cell_type": "code",
   "execution_count": 58,
   "id": "efecb829",
   "metadata": {},
   "outputs": [
    {
     "data": {
      "text/html": [
       "<div>\n",
       "<style scoped>\n",
       "    .dataframe tbody tr th:only-of-type {\n",
       "        vertical-align: middle;\n",
       "    }\n",
       "\n",
       "    .dataframe tbody tr th {\n",
       "        vertical-align: top;\n",
       "    }\n",
       "\n",
       "    .dataframe thead th {\n",
       "        text-align: right;\n",
       "    }\n",
       "</style>\n",
       "<table border=\"1\" class=\"dataframe\">\n",
       "  <thead>\n",
       "    <tr style=\"text-align: right;\">\n",
       "      <th></th>\n",
       "      <th>Distance to Solar Noon</th>\n",
       "      <th>Average Temperature (Day)</th>\n",
       "      <th>Average Wind Direction (Day)</th>\n",
       "      <th>Average Wind Speed (Day)</th>\n",
       "      <th>Sky Cover</th>\n",
       "      <th>Visibility</th>\n",
       "      <th>Relative Humidity</th>\n",
       "      <th>Average Wind Speed (Period)</th>\n",
       "      <th>Average Barometric Pressure (Period)</th>\n",
       "      <th>Power Generated</th>\n",
       "    </tr>\n",
       "  </thead>\n",
       "  <tbody>\n",
       "    <tr>\n",
       "      <th>0</th>\n",
       "      <td>0.859897</td>\n",
       "      <td>69</td>\n",
       "      <td>28</td>\n",
       "      <td>7.5</td>\n",
       "      <td>0</td>\n",
       "      <td>10.0</td>\n",
       "      <td>75</td>\n",
       "      <td>8.0</td>\n",
       "      <td>29.82</td>\n",
       "      <td>0</td>\n",
       "    </tr>\n",
       "    <tr>\n",
       "      <th>1</th>\n",
       "      <td>0.628535</td>\n",
       "      <td>69</td>\n",
       "      <td>28</td>\n",
       "      <td>7.5</td>\n",
       "      <td>0</td>\n",
       "      <td>10.0</td>\n",
       "      <td>77</td>\n",
       "      <td>5.0</td>\n",
       "      <td>29.85</td>\n",
       "      <td>0</td>\n",
       "    </tr>\n",
       "    <tr>\n",
       "      <th>2</th>\n",
       "      <td>0.397172</td>\n",
       "      <td>69</td>\n",
       "      <td>28</td>\n",
       "      <td>7.5</td>\n",
       "      <td>0</td>\n",
       "      <td>10.0</td>\n",
       "      <td>70</td>\n",
       "      <td>0.0</td>\n",
       "      <td>29.89</td>\n",
       "      <td>5418</td>\n",
       "    </tr>\n",
       "    <tr>\n",
       "      <th>3</th>\n",
       "      <td>0.165810</td>\n",
       "      <td>69</td>\n",
       "      <td>28</td>\n",
       "      <td>7.5</td>\n",
       "      <td>0</td>\n",
       "      <td>10.0</td>\n",
       "      <td>33</td>\n",
       "      <td>0.0</td>\n",
       "      <td>29.91</td>\n",
       "      <td>25477</td>\n",
       "    </tr>\n",
       "    <tr>\n",
       "      <th>4</th>\n",
       "      <td>0.065553</td>\n",
       "      <td>69</td>\n",
       "      <td>28</td>\n",
       "      <td>7.5</td>\n",
       "      <td>0</td>\n",
       "      <td>10.0</td>\n",
       "      <td>21</td>\n",
       "      <td>3.0</td>\n",
       "      <td>29.89</td>\n",
       "      <td>30069</td>\n",
       "    </tr>\n",
       "  </tbody>\n",
       "</table>\n",
       "</div>"
      ],
      "text/plain": [
       "   Distance to Solar Noon  Average Temperature (Day)  \\\n",
       "0                0.859897                         69   \n",
       "1                0.628535                         69   \n",
       "2                0.397172                         69   \n",
       "3                0.165810                         69   \n",
       "4                0.065553                         69   \n",
       "\n",
       "   Average Wind Direction (Day)  Average Wind Speed (Day)  Sky Cover  \\\n",
       "0                            28                       7.5          0   \n",
       "1                            28                       7.5          0   \n",
       "2                            28                       7.5          0   \n",
       "3                            28                       7.5          0   \n",
       "4                            28                       7.5          0   \n",
       "\n",
       "   Visibility  Relative Humidity  Average Wind Speed (Period)  \\\n",
       "0        10.0                 75                          8.0   \n",
       "1        10.0                 77                          5.0   \n",
       "2        10.0                 70                          0.0   \n",
       "3        10.0                 33                          0.0   \n",
       "4        10.0                 21                          3.0   \n",
       "\n",
       "   Average Barometric Pressure (Period)  Power Generated  \n",
       "0                                 29.82                0  \n",
       "1                                 29.85                0  \n",
       "2                                 29.89             5418  \n",
       "3                                 29.91            25477  \n",
       "4                                 29.89            30069  "
      ]
     },
     "execution_count": 58,
     "metadata": {},
     "output_type": "execute_result"
    }
   ],
   "source": [
    "df = pd.read_csv('GENERATION.csv')\n",
    "\n",
    "del df['Day of Year']\n",
    "del df['Year']\n",
    "del df['Month']\n",
    "del df['Day']\n",
    "del df['Is Daylight']\n",
    "del df['First Hour of Period']\n",
    "\n",
    "df.head()"
   ]
  },
  {
   "cell_type": "code",
   "execution_count": 59,
   "id": "d785e357",
   "metadata": {},
   "outputs": [],
   "source": [
    "df=df.dropna()"
   ]
  },
  {
   "cell_type": "code",
   "execution_count": 60,
   "id": "7a0f30c1",
   "metadata": {},
   "outputs": [
    {
     "data": {
      "text/plain": [
       "Index(['Distance to Solar Noon', 'Average Temperature (Day)',\n",
       "       'Average Wind Direction (Day)', 'Average Wind Speed (Day)', 'Sky Cover',\n",
       "       'Visibility', 'Relative Humidity', 'Average Wind Speed (Period)',\n",
       "       'Average Barometric Pressure (Period)', 'Power Generated'],\n",
       "      dtype='object')"
      ]
     },
     "execution_count": 60,
     "metadata": {},
     "output_type": "execute_result"
    }
   ],
   "source": [
    "df.columns"
   ]
  },
  {
   "cell_type": "code",
   "execution_count": 61,
   "id": "65130b2a",
   "metadata": {},
   "outputs": [],
   "source": [
    " df.rename(columns={'Distance to Solar Noon': 'Distance_to_Solar_Noon','Average Temperature (Day)':'Average_Temperature_Day','Average Wind Direction (Day)':'Average_Wind_Direction_Day',\n",
    "                   'Average Wind Speed (Day)':'Average_Wind_Speed_Day','Sky Cover':'Sky_Cover','Relative Humidity':'Relative_Humidity',\n",
    "                   'Average Wind Speed (Period)':'Average_Wind_Speed_Period','Average Barometric Pressure (Period)':'Average_Barometric_Pressure_Period','Power Generated':'Power_Generated'}, inplace=True)"
   ]
  },
  {
   "cell_type": "code",
   "execution_count": 62,
   "id": "f834b1d8",
   "metadata": {},
   "outputs": [
    {
     "data": {
      "text/plain": [
       "Index(['Distance_to_Solar_Noon', 'Average_Temperature_Day',\n",
       "       'Average_Wind_Direction_Day', 'Average_Wind_Speed_Day', 'Sky_Cover',\n",
       "       'Visibility', 'Relative_Humidity', 'Average_Wind_Speed_Period',\n",
       "       'Average_Barometric_Pressure_Period', 'Power_Generated'],\n",
       "      dtype='object')"
      ]
     },
     "execution_count": 62,
     "metadata": {},
     "output_type": "execute_result"
    }
   ],
   "source": [
    "df.columns"
   ]
  },
  {
   "cell_type": "code",
   "execution_count": 63,
   "id": "3f36a6e4",
   "metadata": {},
   "outputs": [],
   "source": [
    "x = df.drop(labels='Power_Generated', axis=1)\n",
    "y = df.loc[:,'Power_Generated']"
   ]
  },
  {
   "cell_type": "code",
   "execution_count": 64,
   "id": "4bb6edac",
   "metadata": {},
   "outputs": [
    {
     "name": "stdout",
     "output_type": "stream",
     "text": [
      "NUMBER OF TRAIN DATASET    :  2335\n",
      "NUMBER OF TEST DATASET      :  584\n",
      "TOTAL NUMBER OF DATASET    :  2919\n"
     ]
    }
   ],
   "source": [
    "from sklearn.model_selection import train_test_split\n",
    "x_train, x_test, y_train, y_test = train_test_split(x, y, test_size=0.20, random_state=42)\n",
    "print(\"NUMBER OF TRAIN DATASET    : \", len(x_train))\n",
    "print(\"NUMBER OF TEST DATASET      : \", len(x_test))\n",
    "print(\"TOTAL NUMBER OF DATASET    : \", len(x_train)+len(x_test))"
   ]
  },
  {
   "cell_type": "code",
   "execution_count": 65,
   "id": "cbb02177",
   "metadata": {},
   "outputs": [
    {
     "name": "stdout",
     "output_type": "stream",
     "text": [
      "NUMBER OF TRAIN DATASET    :  2335\n",
      "NUMBER OF TEST DATASET      :  584\n",
      "TOTAL NUMBER OF DATASET    :  2919\n"
     ]
    }
   ],
   "source": [
    "print(\"NUMBER OF TRAIN DATASET    : \", len(y_train))\n",
    "print(\"NUMBER OF TEST DATASET      : \", len(y_test))\n",
    "print(\"TOTAL NUMBER OF DATASET    : \", len(y_train)+len(y_test))"
   ]
  },
  {
   "cell_type": "code",
   "execution_count": 66,
   "id": "1fa5db0a",
   "metadata": {},
   "outputs": [],
   "source": [
    "from sklearn.svm import SVR "
   ]
  },
  {
   "cell_type": "code",
   "execution_count": 67,
   "id": "13c940ce",
   "metadata": {},
   "outputs": [
    {
     "data": {
      "text/plain": [
       "SVR()"
      ]
     },
     "execution_count": 67,
     "metadata": {},
     "output_type": "execute_result"
    }
   ],
   "source": [
    "s = SVR()\n",
    "s.fit(x_train,y_train)"
   ]
  },
  {
   "cell_type": "code",
   "execution_count": 68,
   "id": "4a749cc7",
   "metadata": {},
   "outputs": [],
   "source": [
    "predicted = s.predict(x_test)"
   ]
  },
  {
   "cell_type": "code",
   "execution_count": 69,
   "id": "80fc3d72",
   "metadata": {},
   "outputs": [
    {
     "name": "stdout",
     "output_type": "stream",
     "text": [
      "THE R2 SCORE OF SUPPORT VECTOR REGRESSER IS : -40.70175145223849\n"
     ]
    }
   ],
   "source": [
    "from sklearn.metrics import r2_score\n",
    "R2 = r2_score(y_test,predicted)\n",
    "print(\"THE R2 SCORE OF SUPPORT VECTOR REGRESSER IS :\",R2*100)"
   ]
  },
  {
   "cell_type": "code",
   "execution_count": 70,
   "id": "004bf77e",
   "metadata": {},
   "outputs": [
    {
     "name": "stdout",
     "output_type": "stream",
     "text": [
      "THE ACCURACY SCORE OF SUPPORT VECTOR REGRESSER IS : 81.56735355623958\n"
     ]
    }
   ],
   "source": [
    "from sklearn.metrics import rand_score\n",
    "RAND = rand_score(y_test,predicted)\n",
    "print(\"THE ACCURACY SCORE OF SUPPORT VECTOR REGRESSER IS :\",RAND*100)"
   ]
  },
  {
   "cell_type": "code",
   "execution_count": 71,
   "id": "ddff0163",
   "metadata": {},
   "outputs": [
    {
     "ename": "SyntaxError",
     "evalue": "invalid syntax (2694954071.py, line 3)",
     "output_type": "error",
     "traceback": [
      "\u001b[1;36m  File \u001b[1;32m\"C:\\Users\\lenovo\\AppData\\Local\\Temp\\ipykernel_5512\\2694954071.py\"\u001b[1;36m, line \u001b[1;32m3\u001b[0m\n\u001b[1;33m    print(\"THE EXPLAINED VARIENCE SCORE OF SUPPORT VECTOR REGRESSER IS :\",EVS)MSE = mean_squared_error(y_test,predicted)\u001b[0m\n\u001b[1;37m                                                                              ^\u001b[0m\n\u001b[1;31mSyntaxError\u001b[0m\u001b[1;31m:\u001b[0m invalid syntax\n"
     ]
    }
   ],
   "source": [
    "from sklearn.metrics import explained_variance_score\n",
    "EVS = explained_variance_score(y_test,predicted)\n",
    "print(\"THE EXPLAINED VARIENCE SCORE OF SUPPORT VECTOR REGRESSER IS :\",EVS)MSE = mean_squared_error(y_test,predicted)\n",
    "print(\"THE MEAN SQUARED ERROR SCORE OF SUPPORT VECTOR REGRESSER IS :\",MSE)"
   ]
  },
  {
   "cell_type": "code",
   "execution_count": 72,
   "id": "47e39f72",
   "metadata": {},
   "outputs": [
    {
     "name": "stdout",
     "output_type": "stream",
     "text": [
      "THE MEAN SQUARED ERROR SCORE OF SUPPORT VECTOR REGRESSER IS : 154793856.56808603\n"
     ]
    }
   ],
   "source": [
    "from sklearn.metrics import mean_squared_error\n",
    "MSE = mean_squared_error(y_test,predicted)\n",
    "print(\"THE MEAN SQUARED ERROR SCORE OF SUPPORT VECTOR REGRESSER IS :\",MSE)"
   ]
  },
  {
   "cell_type": "code",
   "execution_count": 73,
   "id": "2bed51cc",
   "metadata": {},
   "outputs": [
    {
     "name": "stdout",
     "output_type": "stream",
     "text": [
      "THE MEAN ABSOLUTE ERROR SCORE OF SUPPORT VECTOR REGRESSER IS : 488.6744304038582\n"
     ]
    }
   ],
   "source": [
    "from sklearn.metrics import median_absolute_error\n",
    "MAE = median_absolute_error(y_test,predicted)\n",
    "print(\"THE MEAN ABSOLUTE ERROR SCORE OF SUPPORT VECTOR REGRESSER IS :\",MAE)"
   ]
  },
  {
   "cell_type": "code",
   "execution_count": 74,
   "id": "e4a70878",
   "metadata": {},
   "outputs": [
    {
     "data": {
      "image/png": "[encoded data removed]",
      "text/plain": [
       "<Figure size 2000x500 with 1 Axes>"
      ]
     },
     "metadata": {},
     "output_type": "display_data"
    }
   ],
   "source": [
    "import matplotlib.pyplot as plt\n",
    "df2 = pd.DataFrame()\n",
    "df2[\"y_test\"] = y_test\n",
    "df2[\"predicted\"] = predicted\n",
    "df2.reset_index(inplace=True)\n",
    "plt.figure(figsize=(20, 5))\n",
    "plt.plot(df2[\"predicted\"][:100], marker='x', linestyle='dashed', color='red')\n",
    "plt.plot(df2[\"y_test\"][:100],  marker='o', linestyle='dashed', color='green')\n",
    "plt.show()"
   ]
  },
  {
   "cell_type": "code",
   "execution_count": 75,
   "id": "8313acfe",
   "metadata": {},
   "outputs": [],
   "source": [
    "x = df.drop(labels='Power_Generated', axis=1)\n",
    "y = df.loc[:,'Power_Generated']"
   ]
  },
  {
   "cell_type": "code",
   "execution_count": 76,
   "id": "bef24bc1",
   "metadata": {},
   "outputs": [
    {
     "name": "stdout",
     "output_type": "stream",
     "text": [
      "NUMBER OF TRAIN DATASET    :  2335\n",
      "NUMBER OF TEST DATASET      :  584\n",
      "TOTAL NUMBER OF DATASET    :  2919\n"
     ]
    }
   ],
   "source": [
    "from sklearn.model_selection import train_test_split\n",
    "x_train, x_test, y_train, y_test = train_test_split(x, y, test_size=0.20, random_state=42)\n",
    "print(\"NUMBER OF TRAIN DATASET    : \", len(x_train))\n",
    "print(\"NUMBER OF TEST DATASET      : \", len(x_test))\n",
    "print(\"TOTAL NUMBER OF DATASET    : \", len(x_train)+len(x_test))"
   ]
  },
  {
   "cell_type": "code",
   "execution_count": 77,
   "id": "bf8b0542",
   "metadata": {},
   "outputs": [],
   "source": [
    "from sklearn.linear_model import LinearRegression"
   ]
  },
  {
   "cell_type": "code",
   "execution_count": 78,
   "id": "237f0e1b",
   "metadata": {},
   "outputs": [],
   "source": [
    "lr = LinearRegression()"
   ]
  },
  {
   "cell_type": "code",
   "execution_count": 79,
   "id": "6daa398d",
   "metadata": {},
   "outputs": [
    {
     "data": {
      "text/plain": [
       "LinearRegression()"
      ]
     },
     "execution_count": 79,
     "metadata": {},
     "output_type": "execute_result"
    }
   ],
   "source": [
    "lr.fit(x_train,y_train)"
   ]
  },
  {
   "cell_type": "code",
   "execution_count": 80,
   "id": "78b88a9a",
   "metadata": {},
   "outputs": [],
   "source": [
    "predicted = lr.predict(x_test)"
   ]
  },
  {
   "cell_type": "code",
   "execution_count": 81,
   "id": "9ed6c038",
   "metadata": {},
   "outputs": [
    {
     "name": "stdout",
     "output_type": "stream",
     "text": [
      "THE R2 SCORE OF SUPPORT VECTOR REGRESSER IS : 62.29659955805862\n"
     ]
    }
   ],
   "source": [
    "R2 = r2_score(y_test,predicted)\n",
    "print(\"THE R2 SCORE OF SUPPORT VECTOR REGRESSER IS :\",R2*100)"
   ]
  },
  {
   "cell_type": "code",
   "execution_count": 82,
   "id": "0b6ad8b6",
   "metadata": {},
   "outputs": [
    {
     "name": "stdout",
     "output_type": "stream",
     "text": [
      "THE ACCURACY SCORE OF SUPPORT VECTOR REGRESSER IS : 81.56735355623958\n"
     ]
    }
   ],
   "source": [
    "RAND = rand_score(y_test,predicted)\n",
    "print(\"THE ACCURACY SCORE OF SUPPORT VECTOR REGRESSER IS :\",RAND*100)"
   ]
  },
  {
   "cell_type": "code",
   "execution_count": 83,
   "id": "25f858be",
   "metadata": {},
   "outputs": [
    {
     "name": "stdout",
     "output_type": "stream",
     "text": [
      "THE EXPLAINED VARIENCE SCORE OF SUPPORT VECTOR REGRESSER IS : 0.6240313655983392\n"
     ]
    }
   ],
   "source": [
    "EVS = explained_variance_score(y_test,predicted)\n",
    "print(\"THE EXPLAINED VARIENCE SCORE OF SUPPORT VECTOR REGRESSER IS :\",EVS)"
   ]
  },
  {
   "cell_type": "code",
   "execution_count": 84,
   "id": "7f740d76",
   "metadata": {},
   "outputs": [
    {
     "name": "stdout",
     "output_type": "stream",
     "text": [
      "THE MEAN SQUARED ERROR SCORE OF SUPPORT VECTOR REGRESSER IS : 41479616.99055405\n"
     ]
    }
   ],
   "source": [
    "MSE = mean_squared_error(y_test,predicted)\n",
    "print(\"THE MEAN SQUARED ERROR SCORE OF SUPPORT VECTOR REGRESSER IS :\",MSE)"
   ]
  },
  {
   "cell_type": "code",
   "execution_count": 85,
   "id": "b78104ce",
   "metadata": {},
   "outputs": [
    {
     "name": "stdout",
     "output_type": "stream",
     "text": [
      "THE MEAN ABSOLUTE ERROR SCORE OF SUPPORT VECTOR REGRESSER IS : 4388.347449787339\n"
     ]
    }
   ],
   "source": [
    "MAE = median_absolute_error(y_test,predicted)\n",
    "print(\"THE MEAN ABSOLUTE ERROR SCORE OF SUPPORT VECTOR REGRESSER IS :\",MAE)"
   ]
  },
  {
   "cell_type": "markdown",
   "id": "3528fef1",
   "metadata": {},
   "source": [
    "# DECISIONTREE REGRESSOR"
   ]
  },
  {
   "cell_type": "code",
   "execution_count": 86,
   "id": "c1005fd6",
   "metadata": {},
   "outputs": [],
   "source": [
    "from sklearn.tree import DecisionTreeRegressor"
   ]
  },
  {
   "cell_type": "code",
   "execution_count": 87,
   "id": "dd5347c4",
   "metadata": {},
   "outputs": [],
   "source": [
    "dt = DecisionTreeRegressor()"
   ]
  },
  {
   "cell_type": "code",
   "execution_count": 88,
   "id": "25be808a",
   "metadata": {},
   "outputs": [
    {
     "data": {
      "text/plain": [
       "DecisionTreeRegressor()"
      ]
     },
     "execution_count": 88,
     "metadata": {},
     "output_type": "execute_result"
    }
   ],
   "source": [
    "dt.fit(x_train, y_train)"
   ]
  },
  {
   "cell_type": "code",
   "execution_count": 89,
   "id": "594aa1ac",
   "metadata": {},
   "outputs": [],
   "source": [
    "predicted = dt.predict(x_test)"
   ]
  },
  {
   "cell_type": "code",
   "execution_count": 90,
   "id": "2e62c4d2",
   "metadata": {},
   "outputs": [
    {
     "name": "stdout",
     "output_type": "stream",
     "text": [
      "THE R2 SCORE OF DECISION TREE REGRESSER IS : 81.69058000667626\n"
     ]
    }
   ],
   "source": [
    "R2 = r2_score(y_test,predicted)\n",
    "print(\"THE R2 SCORE OF DECISION TREE REGRESSER IS :\",R2*100)"
   ]
  },
  {
   "cell_type": "code",
   "execution_count": 91,
   "id": "1083e377",
   "metadata": {},
   "outputs": [
    {
     "name": "stdout",
     "output_type": "stream",
     "text": [
      "THE ACCURACY SCORE OF DECISION TREE REGRESSER IS : 95.10268098404568\n"
     ]
    }
   ],
   "source": [
    "RAND = rand_score(y_test,predicted)\n",
    "print(\"THE ACCURACY SCORE OF DECISION TREE REGRESSER IS :\",RAND*100)"
   ]
  },
  {
   "cell_type": "code",
   "execution_count": 92,
   "id": "6aa6e130",
   "metadata": {},
   "outputs": [
    {
     "name": "stdout",
     "output_type": "stream",
     "text": [
      "THE EXPLAINED VARIENCE SCORE OF DECISION TREE REGRESSER IS : 0.8169074269475765\n"
     ]
    }
   ],
   "source": [
    "EVS = explained_variance_score(y_test,predicted)\n",
    "print(\"THE EXPLAINED VARIENCE SCORE OF DECISION TREE REGRESSER IS :\",EVS)"
   ]
  },
  {
   "cell_type": "code",
   "execution_count": 93,
   "id": "a18573f7",
   "metadata": {},
   "outputs": [
    {
     "name": "stdout",
     "output_type": "stream",
     "text": [
      "THE MEAN SQUARED ERROR SCORE OF DECISION TREE REGRESSER IS : 20143215.72431507\n"
     ]
    }
   ],
   "source": [
    "MSE = mean_squared_error(y_test,predicted)\n",
    "print(\"THE MEAN SQUARED ERROR SCORE OF DECISION TREE REGRESSER IS :\",MSE)"
   ]
  },
  {
   "cell_type": "code",
   "execution_count": 94,
   "id": "c94eea01",
   "metadata": {},
   "outputs": [
    {
     "name": "stdout",
     "output_type": "stream",
     "text": [
      "THE MEAN ABSOLUTE ERROR SCORE OF DECISION TREE REGRESSER IS : 153.5\n"
     ]
    }
   ],
   "source": [
    "MAE = median_absolute_error(y_test,predicted)\n",
    "print(\"THE MEAN ABSOLUTE ERROR SCORE OF DECISION TREE REGRESSER IS :\",MAE)"
   ]
  },
  {
   "cell_type": "markdown",
   "id": "3a32eb8e",
   "metadata": {},
   "source": [
    "# MLP REGRESSOR"
   ]
  },
  {
   "cell_type": "code",
   "execution_count": 95,
   "id": "fa2ac61e",
   "metadata": {},
   "outputs": [],
   "source": [
    "from sklearn.neural_network import MLPRegressor"
   ]
  },
  {
   "cell_type": "code",
   "execution_count": 96,
   "id": "f9b700e0",
   "metadata": {},
   "outputs": [],
   "source": [
    "mlp_model = MLPRegressor(hidden_layer_sizes=(100, 50), max_iter=1000, random_state=42)\n"
   ]
  },
  {
   "cell_type": "code",
   "execution_count": 97,
   "id": "63b0fdf0",
   "metadata": {},
   "outputs": [
    {
     "data": {
      "text/plain": [
       "MLPRegressor(hidden_layer_sizes=(100, 50), max_iter=1000, random_state=42)"
      ]
     },
     "execution_count": 97,
     "metadata": {},
     "output_type": "execute_result"
    }
   ],
   "source": [
    "mlp_model.fit(x_train, y_train)\n"
   ]
  },
  {
   "cell_type": "code",
   "execution_count": 98,
   "id": "999b5030",
   "metadata": {},
   "outputs": [],
   "source": [
    "predicted = mlp_model.predict(x_test)\n"
   ]
  },
  {
   "cell_type": "code",
   "execution_count": 99,
   "id": "65b96999",
   "metadata": {},
   "outputs": [
    {
     "name": "stdout",
     "output_type": "stream",
     "text": [
      "THE R2 SCORE OF SUPPORT VECTOR REGRESSER IS : 83.82346595891644\n"
     ]
    }
   ],
   "source": [
    "R2 = r2_score(y_test,predicted)\n",
    "print(\"THE R2 SCORE OF SUPPORT VECTOR REGRESSER IS :\",R2*100)"
   ]
  },
  {
   "cell_type": "code",
   "execution_count": 100,
   "id": "1ad89bf5",
   "metadata": {},
   "outputs": [
    {
     "name": "stdout",
     "output_type": "stream",
     "text": [
      "THE ACCURACY SCORE OF SUPPORT VECTOR REGRESSER IS : 81.56735355623958\n"
     ]
    }
   ],
   "source": [
    "RAND = rand_score(y_test,predicted)\n",
    "print(\"THE ACCURACY SCORE OF SUPPORT VECTOR REGRESSER IS :\",RAND*100)"
   ]
  },
  {
   "cell_type": "code",
   "execution_count": 101,
   "id": "e0428c7e",
   "metadata": {},
   "outputs": [
    {
     "name": "stdout",
     "output_type": "stream",
     "text": [
      "THE EXPLAINED VARIENCE SCORE OF SUPPORT VECTOR REGRESSER IS : 0.8387269842653213\n"
     ]
    }
   ],
   "source": [
    "EVS = explained_variance_score(y_test,predicted)\n",
    "print(\"THE EXPLAINED VARIENCE SCORE OF SUPPORT VECTOR REGRESSER IS :\",EVS)"
   ]
  },
  {
   "cell_type": "code",
   "execution_count": 102,
   "id": "b528e677",
   "metadata": {},
   "outputs": [
    {
     "name": "stdout",
     "output_type": "stream",
     "text": [
      "THE MEAN SQUARED ERROR SCORE OF SUPPORT VECTOR REGRESSER IS : 17796708.74228063\n"
     ]
    }
   ],
   "source": [
    "MSE = mean_squared_error(y_test,predicted)\n",
    "print(\"THE MEAN SQUARED ERROR SCORE OF SUPPORT VECTOR REGRESSER IS :\",MSE)"
   ]
  },
  {
   "cell_type": "code",
   "execution_count": 103,
   "id": "10b649c5",
   "metadata": {},
   "outputs": [
    {
     "name": "stdout",
     "output_type": "stream",
     "text": [
      "THE MEAN ABSOLUTE ERROR SCORE OF SUPPORT VECTOR REGRESSER IS : 1524.2454383011313\n"
     ]
    }
   ],
   "source": [
    "MAE = median_absolute_error(y_test,predicted)\n",
    "print(\"THE MEAN ABSOLUTE ERROR SCORE OF SUPPORT VECTOR REGRESSER IS :\",MAE)"
   ]
  },
  {
   "cell_type": "code",
   "execution_count": null,
   "id": "1644bc0f",
   "metadata": {},
   "outputs": [],
   "source": []
  }
 ],
 "metadata": {
  "kernelspec": {
   "display_name": "Python 3 (ipykernel)",
   "language": "python",
   "name": "python3"
  },
  "language_info": {
   "codemirror_mode": {
    "name": "ipython",
    "version": 3
   },
   "file_extension": ".py",
   "mimetype": "text/x-python",
   "name": "python",
   "nbconvert_exporter": "python",
   "pygments_lexer": "ipython3",
   "version": "3.9.13"
  }
 },
 "nbformat": 4,
 "nbformat_minor": 5
}
